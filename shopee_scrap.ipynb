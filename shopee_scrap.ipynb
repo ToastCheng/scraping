{
 "cells": [
  {
   "cell_type": "code",
   "execution_count": 1,
   "metadata": {},
   "outputs": [],
   "source": [
    "import pandas as pd \n",
    "\n",
    "import requests\n",
    "import json\n",
    "from typing import Tuple"
   ]
  },
  {
   "cell_type": "code",
   "execution_count": 2,
   "metadata": {},
   "outputs": [],
   "source": [
    "filename = \"gift_list.csv\"\n",
    "df = pd.read_csv(filename)"
   ]
  },
  {
   "cell_type": "markdown",
   "metadata": {},
   "source": [
    "## MY Link==PP, TW Link==TWpromotion, SIP==OLD, new discount < 10%"
   ]
  },
  {
   "cell_type": "markdown",
   "metadata": {},
   "source": [
    "## preprocess"
   ]
  },
  {
   "cell_type": "code",
   "execution_count": 3,
   "metadata": {},
   "outputs": [],
   "source": [
    "df[\"MY discount\"] = df[\"NEW Discount\"].apply(lambda x: 0) # float(x.strip(\"%\")))\n",
    "df[\"MY webprice\"] = df[\"PP\"]\n",
    "df[\"MY equal\"] = [False for i in range(len(df))]\n",
    "df[\"MY error\"] = [False for i in range(len(df))]\n",
    "\n",
    "df[\"TW webprice\"] = df[\"PP\"]\n",
    "df[\"TW equal\"] = [False for i in range(len(df))]\n",
    "df[\"TW error\"] = [False for i in range(len(df))]"
   ]
  },
  {
   "cell_type": "markdown",
   "metadata": {},
   "source": [
    "## helpers"
   ]
  },
  {
   "cell_type": "code",
   "execution_count": 4,
   "metadata": {},
   "outputs": [],
   "source": [
    "def parse_id(url: str) -> Tuple[str, str]:\n",
    "    shopid, itemid = url.split(\"-\")[-1].split(\".\")[1:]\n",
    "    return shopid, itemid"
   ]
  },
  {
   "cell_type": "code",
   "execution_count": 21,
   "metadata": {
    "scrolled": false
   },
   "outputs": [
    {
     "name": "stderr",
     "output_type": "stream",
     "text": [
      "/Users/tushicheng/py/lib/python3.7/site-packages/pandas/core/indexing.py:965: SettingWithCopyWarning: \n",
      "A value is trying to be set on a copy of a slice from a DataFrame.\n",
      "Try using .loc[row_indexer,col_indexer] = value instead\n",
      "\n",
      "See the caveats in the documentation: https://pandas.pydata.org/pandas-docs/stable/user_guide/indexing.html#returning-a-view-versus-a-copy\n",
      "  self.obj[item] = s\n"
     ]
    },
    {
     "name": "stdout",
     "output_type": "stream",
     "text": [
      "iter 8900...\r"
     ]
    }
   ],
   "source": [
    "# for i in range(len(df)):\n",
    "for i in df.index:\n",
    "    if i % 100 == 0:\n",
    "        print(\"iter {}...\".format(i), end=\"\\r\")\n",
    "    \n",
    "    # MY\n",
    "    url = df[\"MY Link\"][i]\n",
    "    shopid, itemid = parse_id(url)\n",
    "    try:\n",
    "        r = requests.get(\"https://shopee.com.my/api/v2/item/get?shopid={}&itemid={}\".format(shopid, itemid))\n",
    "        item = json.loads(r.content)[\"item\"]\n",
    "        models = item[\"models\"]\n",
    "\n",
    "        equal = False\n",
    "        for m in models:\n",
    "            p = m[\"price\"] * 10e-6\n",
    "\n",
    "            if abs(df[\"PP\"][i] - p) < 10e-5:\n",
    "                equal = True\n",
    "                break\n",
    "            else:\n",
    "                # print(df[\"PP\"][i], p)\n",
    "                pass\n",
    "\n",
    "        models = list(map(lambda m: \"{}: {:.2f}\".format(m[\"name\"], m[\"price\"]*10e-6), models))\n",
    "        models = \", \".join(models)\n",
    "        df.loc[i, \"MY webprice\"] = models\n",
    "\n",
    "        df.loc[i, \"MY equal\"] = equal\n",
    "        df.loc[i, \"MY discount\"] = item[\"show_discount\"]\n",
    "        \n",
    "    except:\n",
    "        df.loc[i, \"MY error\"] = True\n",
    "        df.loc[i, \"MY webprice\"] = 0\n",
    "        df.loc[i, \"MY equal\"] = False\n",
    "        df.loc[i, \"MY discount\"] = 0\n",
    "    \n",
    "    # TW\n",
    "    url = df[\"TW link\"][i]\n",
    "    shopid, itemid = parse_id(url)\n",
    "    try:\n",
    "        r = requests.get(\"https://shopee.tw/api/v2/item/get?shopid={}&itemid={}\".format(shopid, itemid))\n",
    "        models = json.loads(r.content)[\"item\"][\"models\"]\n",
    "\n",
    "        equal = False\n",
    "        for m in models:\n",
    "            p = int(m[\"price\"] * 10e-6)\n",
    "\n",
    "            if abs(df[\"TWpromotion price\"][i] - p) < 10e-5:\n",
    "                equal = True\n",
    "                break\n",
    "            else:\n",
    "                # print(df[\"TWpromotion price\"][i], p)\n",
    "                pass\n",
    "\n",
    "        models = list(map(lambda m: \"{}: {:.2f}\".format(m[\"name\"], m[\"price\"]*10e-6), models))\n",
    "        models = \", \".join(models)\n",
    "        df.loc[i, \"TW webprice\"] = models\n",
    "\n",
    "        df.loc[i, \"TW equal\"] = equal\n",
    "        \n",
    "    except:\n",
    "        df.loc[i, \"TW error\"] = True\n",
    "        df.loc[i, \"TW webprice\"] = 0\n",
    "        df.loc[i, \"TW equal\"] = False"
   ]
  },
  {
   "cell_type": "markdown",
   "metadata": {},
   "source": [
    "## filter"
   ]
  },
  {
   "cell_type": "code",
   "execution_count": 8,
   "metadata": {},
   "outputs": [],
   "source": [
    "full_filename = filename.strip(\".csv\") + \"_full.csv\"\n",
    "df.to_csv(full_filename)"
   ]
  },
  {
   "cell_type": "code",
   "execution_count": 24,
   "metadata": {},
   "outputs": [],
   "source": [
    "df_filter = df[\n",
    "    (df[\"TW equal\"] == False) |\n",
    "    (df[\"MY equal\"] == False) |\n",
    "    (df[\"MY error\"] == True) |\n",
    "    (df[\"TW error\"] == True) |\n",
    "    ( (df[\"SIP\"] == \"OLD\") & (df[\"MY discount\"] <= 10) )\n",
    "]"
   ]
  },
  {
   "cell_type": "code",
   "execution_count": 27,
   "metadata": {},
   "outputs": [],
   "source": [
    "filtered_filename = filename.strip(\".csv\") + \"_filtered.csv\"\n",
    "\n",
    "df_filter.to_csv(filtered_filename)"
   ]
  },
  {
   "cell_type": "code",
   "execution_count": null,
   "metadata": {},
   "outputs": [],
   "source": [
    "MY discount \n",
    "MY webprice \n",
    "MY equal \n",
    "MY error \n",
    "\n",
    "TW webprice \n",
    "TW equal \n",
    "TW error"
   ]
  }
 ],
 "metadata": {
  "kernelspec": {
   "display_name": "Python 3",
   "language": "python",
   "name": "python3"
  },
  "language_info": {
   "codemirror_mode": {
    "name": "ipython",
    "version": 3
   },
   "file_extension": ".py",
   "mimetype": "text/x-python",
   "name": "python",
   "nbconvert_exporter": "python",
   "pygments_lexer": "ipython3",
   "version": "3.7.5"
  }
 },
 "nbformat": 4,
 "nbformat_minor": 2
}
